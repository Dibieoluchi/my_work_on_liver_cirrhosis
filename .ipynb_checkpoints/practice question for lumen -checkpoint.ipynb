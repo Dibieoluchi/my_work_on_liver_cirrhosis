{
 "cells": [
  {
   "cell_type": "markdown",
   "id": "a7c3bc06",
   "metadata": {},
   "source": [
    "situation: my most challenging task was when i worked on a liver cirrhosis disease analysis ,The following data contains the information collected from the Mayo Clinic trial in primary biliary cirrhosis (PBC) of the liver conducted between 1974 and 1984. source\n",
    "\n",
    "418 PBC patients participated in randomized placebo-controlled trial of the drug D-penicillamine\n",
    "\n",
    "312 cases participated in the randomized trial\n",
    "\n",
    "106 cases did not participate in the clinical trial (6 of the original 112 were lost)\n",
    "\n",
    "task:THE AIM OF THIS DISEASE ANALYSIS IS TO DETERMINE THE VARIOUS FACTORS THAT LEAD TO THE CIRRHOSIS OF THE LIVER in patients \n",
    "\n",
    "\n",
    "actions:i imported my libraries \n",
    "numpy \n",
    "pandas\n",
    "matplotlib\n",
    "seaborn\n",
    "\n",
    "i cleaned my datasets, some of my datasets contained missing values and data sets that were in wrong format \n",
    "my dataset were grouped into numerical and categorical variable inorder to determine the best method to fill in the missing datasets \n",
    "\n",
    "the dataset were corrected into their right format \n",
    "\n",
    "i visualized my datsets using the seaborn and matplotlib library inorder to create a self explantory dashboard of my dataset \n",
    "\n",
    "\n",
    "results :\n",
    "1. out of the 374 females 61% responded negative to liver cirrhosis while 38 % responded positive to it\n",
    "2. out of the 44 males 63% responded negative to liver cirrhosis while 36% responded positive\n",
    "3. from our analysis , we can conclude that liver cirrhosis is more prevalent in females than males\n",
    "4. \n",
    "5. from earlier analysis we already observed that age has a positive correlation to our disease stages , the older you get the higer the probabilty of having cirrhosis\n",
    "6. albumin,platelets,cholesterol and tryglicerides has a negative correlaton with the disease stages , the lower the accumulation of this serum in a patient blood level the higher the chances of cirrhosis\n",
    "7. bilirubin,copper and prothrombin has a postive correlation with disease stage , the higher the accumulation of this serum in a patient blood level the higher the chance of cirrhosis\n",
    "\n",
    "\n",
    "lesson:one of the biggest challenge i heard was trying to create a dashboard that could be as self explanatory as possible, and that also ensures that our result were accurate ,\n",
    "i heard to make my research on the liver cirrhosis disease, inorder to enable understand on the project i was working on and if i was hgoing off track with my analysis "
   ]
  }
 ],
 "metadata": {
  "kernelspec": {
   "display_name": "Python 3 (ipykernel)",
   "language": "python",
   "name": "python3"
  },
  "language_info": {
   "codemirror_mode": {
    "name": "ipython",
    "version": 3
   },
   "file_extension": ".py",
   "mimetype": "text/x-python",
   "name": "python",
   "nbconvert_exporter": "python",
   "pygments_lexer": "ipython3",
   "version": "3.7.4"
  }
 },
 "nbformat": 4,
 "nbformat_minor": 5
}
