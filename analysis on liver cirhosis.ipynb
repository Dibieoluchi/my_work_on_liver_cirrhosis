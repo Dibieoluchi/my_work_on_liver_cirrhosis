{
 "cells": [
  {
   "cell_type": "markdown",
   "id": "36376a70",
   "metadata": {},
   "source": [
    "CIRRHOSIS LIVER DISEASE PREDICTION\n",
    "\n",
    "Context\n",
    "\n",
    "Cirrhosis is a late stage of scarring (fibrosis) of the liver caused by many forms of liver diseases and conditions, such as hepatitis and chronic alcoholism.\n",
    "\n",
    "The following data contains the information collected from the Mayo Clinic trial in primary biliary cirrhosis (PBC) of the liver conducted between 1974 and 1984.\n",
    "\n",
    "A total of 424 PBC patients, referred to Mayo Clinic during that ten-year interval, met eligibility criteria for the randomized placebo-controlled trial of the drug D-penicillamine.\n",
    "\n",
    "The first 312 cases in the dataset participated in the randomized trial and contain largely complete data.\n",
    "\n",
    "The additional 112 cases did not participate in the clinical trial but consented to have basic measurements recorded and to be followed for survival.\n",
    "\n",
    "Six of those cases were lost to follow-up shortly after diagnosis, so the data here are on an additional 106 cases as well as the 312 randomized participants.\n",
    "\n",
    "** Attribute Information**\n",
    "\n",
    "1. ID: unique identifier\n",
    "2. N_Days: number of days between registration and the earlier of death, transplantation, or study analysis time in July 1986\n",
    "3. Status: status of the patient C (censored), CL (censored due to liver tx), or D (death)\n",
    "4. Drug: type of drug D-penicillamine or placebo\n",
    "5. Age: age in [days]\n",
    "6. Sex: M (male) or F (female)\n",
    "7. Ascites: presence of ascites N (No) or Y (Yes)\n",
    "8. Hepatomegaly: presence of hepatomegaly N (No) or Y (Yes)\n",
    "9. Spiders: presence of spiders N (No) or Y (Yes)\n",
    "10. Edema: presence of edema N (no edema and no diuretic therapy for edema), S (edema present without diuretics, or edema resolved by diuretics), or Y (edema despite diuretic therapy)\n",
    "11. Bilirubin: serum bilirubin in [mg/dl]\n",
    "12. Cholesterol: serum cholesterol in [mg/dl]\n",
    "13. Albumin: albumin in [gm/dl]\n",
    "14. Copper: urine copper in [ug/day]\n",
    "15. Alk_Phos: alkaline phosphatase in [U/liter]\n",
    "16. SGOT: SGOT in [U/ml]\n",
    "17. Triglycerides: triglicerides in [mg/dl]\n",
    "18. Platelets: platelets per cubic [ml/1000]\n",
    "19. Prothrombin: prothrombin time in seconds [s]\n",
    "20. Stage: histologic stage of disease (1, 2, 3, or 4)\n",
    "    \n",
    "    \n",
    "https://www.kaggle.com/fedesoriano/cirrhosis-prediction-dataset.\n",
    "\n",
    "data site"
   ]
  },
  {
   "cell_type": "code",
   "execution_count": null,
   "id": "5fa5c089",
   "metadata": {},
   "outputs": [],
   "source": []
  }
 ],
 "metadata": {
  "kernelspec": {
   "display_name": "Python 3 (ipykernel)",
   "language": "python",
   "name": "python3"
  },
  "language_info": {
   "codemirror_mode": {
    "name": "ipython",
    "version": 3
   },
   "file_extension": ".py",
   "mimetype": "text/x-python",
   "name": "python",
   "nbconvert_exporter": "python",
   "pygments_lexer": "ipython3",
   "version": "3.7.4"
  }
 },
 "nbformat": 4,
 "nbformat_minor": 5
}
